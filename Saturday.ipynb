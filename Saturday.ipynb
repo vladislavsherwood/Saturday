{
 "cells": [
  {
   "cell_type": "markdown",
   "metadata": {
    "cell_id": "240a812e886647fcaf1e2b05283bdbcf",
    "deepnote_app_coordinates": {
     "h": 5,
     "w": 12,
     "x": 0,
     "y": 0
    },
    "deepnote_cell_type": "text-cell-h1",
    "formattedRanges": []
   },
   "source": [
    "# Project : \"Saturday\""
   ]
  },
  {
   "cell_type": "markdown",
   "metadata": {
    "cell_id": "bd38f9207c3b4facb0265d4d4a08dfe0",
    "deepnote_app_coordinates": {
     "h": 2,
     "w": 8,
     "x": 0,
     "y": 0
    },
    "deepnote_cell_type": "text-cell-p",
    "formattedRanges": []
   },
   "source": [
    "Hey there, this is my first pet project outside my corporate job. After moving to a new country, I realized that I had no work I could freely showcase without corporate approval. So, here we are!\n",
    "I'm not a fan of doing pointless work, so this project is the first step in bringing one of my long-neglected ideas to life—a data solution for small businesses that's as high-end and user-friendly as it gets."
   ]
  },
  {
   "cell_type": "markdown",
   "metadata": {
    "cell_id": "27f6fc603125406388a8a4594913e4f1",
    "deepnote_app_coordinates": {
     "h": 5,
     "w": 12,
     "x": 0,
     "y": 0
    },
    "deepnote_cell_type": "text-cell-h3",
    "formattedRanges": [],
    "is_collapsed": false
   },
   "source": [
    "### The Problem We're Tackling:"
   ]
  },
  {
   "cell_type": "markdown",
   "metadata": {
    "cell_id": "525e71de4d0e43f292bf1bc45625d1e0",
    "deepnote_app_coordinates": {
     "h": 2,
     "w": 8,
     "x": 0,
     "y": 0
    },
    "deepnote_cell_type": "text-cell-bullet",
    "formattedRanges": [],
    "is_collapsed": false
   },
   "source": [
    "- Every small business eventually faces the need to use data to improve efficiency. But implementing data into a company usually starts with hiring an expensive data wizard who designs a relational database, creates dashboards, and gets into data engineering. Often, companies realize the need for data later than they'd like. They end up regretting not making their business transparent from the start. Well, we get it, early-stage data pros are just too pricey, and many small business owners don't even know what these data folks do. So, realization often comes too late. "
   ]
  },
  {
   "cell_type": "markdown",
   "metadata": {
    "cell_id": "52d8159ee62244a3a53216cbbabe9537",
    "deepnote_app_coordinates": {
     "h": 2,
     "w": 8,
     "x": 0,
     "y": 0
    },
    "deepnote_cell_type": "text-cell-bullet",
    "formattedRanges": [],
    "is_collapsed": false
   },
   "source": [
    "- Small businesses often share similar database designs, whether it's a restaurant, a tech gadget shop, or a massage parlor. The basic data structure is quite alike. All restaurants have similar expenses and problems, just like retail stores and other small businesses. "
   ]
  },
  {
   "cell_type": "markdown",
   "metadata": {
    "cell_id": "c300894c8cb44edb836b59d92b3d2cfd",
    "deepnote_app_coordinates": {
     "h": 5,
     "w": 12,
     "x": 0,
     "y": 0
    },
    "deepnote_cell_type": "text-cell-h3",
    "formattedRanges": [],
    "is_collapsed": false
   },
   "source": [
    "### \n",
    "The Project Idea:"
   ]
  },
  {
   "cell_type": "markdown",
   "metadata": {
    "cell_id": "94da6170744c49929c7d08bfd2a1517c",
    "deepnote_app_coordinates": {
     "h": 2,
     "w": 8,
     "x": 0,
     "y": 0
    },
    "deepnote_cell_type": "text-cell-bullet",
    "formattedRanges": [],
    "is_collapsed": false
   },
   "source": [
    "- Create a service that's easy to implement in any business, one that uses pre-made templates to gather data and provide dashboards and numbers—essentially, \"Data Analytics on a Silver Platter for Small Businesses.\" "
   ]
  },
  {
   "cell_type": "markdown",
   "metadata": {
    "cell_id": "72c68b1fe3d14e27a857b71eae0e5908",
    "deepnote_app_coordinates": {
     "h": 2,
     "w": 8,
     "x": 0,
     "y": 0
    },
    "deepnote_cell_type": "text-cell-bullet",
    "formattedRanges": [],
    "is_collapsed": false
   },
   "source": [
    "- Business owners select the data blocks they need: \"Personnel, Shift Tracking, and Payroll,\" \"Orders and Comprehensive Analysis,\" \"Recipes for Food Preparation,\" \"Inventory with Ingredients.\" For example, in a restaurant context, after gathering enough data, this could generate financial statements. Over time, we'll add more ways to gather data from different order tracking services. The goal is to simplify the lives of small business owners, taking care of what they don't understand. ",
    "\n"
   ]
  },
  {
   "cell_type": "markdown",
   "metadata": {
    "cell_id": "68654626598f42f89fe957f2b5b7fa18",
    "deepnote_app_coordinates": {
     "h": 2,
     "w": 8,
     "x": 0,
     "y": 0
    },
    "deepnote_cell_type": "text-cell-p",
    "formattedRanges": [],
    "is_collapsed": false
   },
   "source": [
    "The core idea is fantastic, but it requires an enormous variety of modules. In this project, I'll dissect an example of a similar business, demonstrating my skills to future employers (I'm doing this to find a job, after all)."
   ]
  },
  {
   "cell_type": "markdown",
   "metadata": {
    "cell_id": "f84610ab1b064556a712474e0d39db3d",
    "deepnote_app_coordinates": {
     "h": 2,
     "w": 8,
     "x": 0,
     "y": 0
    },
    "deepnote_cell_type": "text-cell-p",
    "formattedRanges": [
     {
      "fromCodePoint": 22,
      "marks": {
       "bold": true
      },
      "toCodePoint": 33,
      "type": "marks"
     }
    ],
    "is_collapsed": false
   },
   "source": [
    "I'll name the project \"Saturday\" because in Israel, my home country, it's customary to do nothing on Shabbat. This project, on the contrary, will do everything for you. (Any resemblances to company names named after other days of the week are purely coincidental.)"
   ]
  },
  {
   "cell_type": "markdown",
   "metadata": {
    "cell_id": "4b0b1a32d21546a7b2c070773c514f82",
    "deepnote_app_coordinates": {
     "h": 5,
     "w": 12,
     "x": 0,
     "y": 0
    },
    "deepnote_cell_type": "text-cell-h1",
    "formattedRanges": []
   },
   "source": [
    "# \"Saturday\" Case 1 "
   ]
  },
  {
   "cell_type": "markdown",
   "metadata": {
    "cell_id": "5b4b2505360b4e388645efa516eb6cf3",
    "deepnote_app_coordinates": {
     "h": 5,
     "w": 12,
     "x": 0,
     "y": 0
    },
    "deepnote_cell_type": "text-cell-h2",
    "formattedRanges": []
   },
   "source": [
    "## Step 1: Designing a Relational Database"
   ]
  },
  {
   "cell_type": "markdown",
   "metadata": {
    "cell_id": "3547429163c84d5b89ba78d7376b2c0f",
    "deepnote_app_coordinates": {
     "h": 2,
     "w": 8,
     "x": 0,
     "y": 0
    },
    "deepnote_cell_type": "text-cell-p",
    "formattedRanges": []
   },
   "source": [
    "The most straightforward one for me, a restaurant. To start, we must understand and document all the data that could possibly exist in a restaurant and immediately make them all fancy and user-friendly for future use."
   ]
  },
  {
   "cell_type": "markdown",
   "metadata": {
    "cell_id": "17e7de4c0e294587882adf9648d6a422",
    "deepnote_app_coordinates": {
     "h": 5,
     "w": 12,
     "x": 0,
     "y": 0
    },
    "deepnote_cell_type": "text-cell-h3",
    "formattedRanges": [],
    "is_collapsed": false
   },
   "source": [
    "### First Table - Orders"
   ]
  },
  {
   "cell_type": "markdown",
   "metadata": {
    "cell_id": "4b94b4af081d49caa9af186f336bfb24",
    "deepnote_app_coordinates": {
     "h": 2,
     "w": 8,
     "x": 0,
     "y": 0
    },
    "deepnote_cell_type": "text-cell-p",
    "formattedRanges": [],
    "is_collapsed": false
   },
   "source": [
    "In a restaurant, you can order food for dine-in or delivery. The data the restaurant has from in-house sales includes:"
   ]
  },
  {
   "cell_type": "markdown",
   "metadata": {
    "cell_id": "5ba764ce1d57428eb96efb360d517031",
    "deepnote_app_coordinates": {
     "h": 2,
     "w": 8,
     "x": 0,
     "y": 0
    },
    "deepnote_cell_type": "text-cell-bullet",
    "formattedRanges": [],
    "is_collapsed": false
   },
   "source": [
    "- order_id"
   ]
  },
  {
   "cell_type": "markdown",
   "metadata": {
    "cell_id": "261188530fe34a5298e59f8c3c70e302",
    "deepnote_app_coordinates": {
     "h": 2,
     "w": 8,
     "x": 0,
     "y": 0
    },
    "deepnote_cell_type": "text-cell-bullet",
    "formattedRanges": [],
    "is_collapsed": false
   },
   "source": [
    "- item_id - What's sold? Looking ahead, I'd also tie in here \"what it's made from.\" It will also be a secondary key that links to the primary key in the recipe table. This would allow us to track inventory, predict consumption, form delivery sizes, and calculate the production cost of dishes."
   ]
  },
  {
   "cell_type": "markdown",
   "metadata": {
    "cell_id": "b4535a1fdd824cc997bc978a3ed31f59",
    "deepnote_app_coordinates": {
     "h": 2,
     "w": 8,
     "x": 0,
     "y": 0
    },
    "deepnote_cell_type": "text-cell-bullet",
    "formattedRanges": [],
    "is_collapsed": false
   },
   "source": [
    "- quantity - How much of it is sold"
   ]
  },
  {
   "cell_type": "markdown",
   "metadata": {
    "cell_id": "8ee7125c1cc640999ea52be0934368fc",
    "deepnote_app_coordinates": {
     "h": 2,
     "w": 8,
     "x": 0,
     "y": 0
    },
    "deepnote_cell_type": "text-cell-bullet",
    "formattedRanges": [],
    "is_collapsed": false
   },
   "source": [
    "- cust_id - To whom it's sold (in case there's a customer database (CRM) and the ability to identify the customer, through the restaurant's mobile app, or perhaps a \"Loyalty Program Card\")"
   ]
  },
  {
   "cell_type": "markdown",
   "metadata": {
    "cell_id": "15a5a86615d649c9a8d51eb71051ab06",
    "deepnote_app_coordinates": {
     "h": 2,
     "w": 8,
     "x": 0,
     "y": 0
    },
    "deepnote_cell_type": "text-cell-p",
    "formattedRanges": []
   },
   "source": [
    "Additionally, if our restaurant offers delivery, we need two more variables:"
   ]
  },
  {
   "cell_type": "markdown",
   "metadata": {
    "cell_id": "4785f928fd994dcf967f1487bae2da11",
    "deepnote_app_coordinates": {
     "h": 2,
     "w": 8,
     "x": 0,
     "y": 0
    },
    "deepnote_cell_type": "text-cell-bullet",
    "formattedRanges": [],
    "is_collapsed": false
   },
   "source": [
    "- A boolean variable \"Delivery\" (to understand whether the order was placed in the restaurant or not)"
   ]
  },
  {
   "cell_type": "markdown",
   "metadata": {
    "cell_id": "2e25434950e34cf49d7fb8030dcc7776",
    "deepnote_app_coordinates": {
     "h": 2,
     "w": 8,
     "x": 0,
     "y": 0
    },
    "deepnote_cell_type": "text-cell-bullet",
    "formattedRanges": [],
    "is_collapsed": false
   },
   "source": [
    "- The delivery address if the order is for delivery. (this will also be in a secondary key format, which will link to the primary key in the addresses table - let's think about data normalization right away)"
   ]
  },
  {
   "cell_type": "markdown",
   "metadata": {
    "cell_id": "e355dc87fe244fa49c43de45a22451d3",
    "deepnote_app_coordinates": {
     "h": 2,
     "w": 8,
     "x": 0,
     "y": 0
    },
    "deepnote_cell_type": "text-cell-bullet",
    "formattedRanges": [],
    "is_collapsed": false
   },
   "source": [
    "- Well, looking at all this data, we realize that any of these, on their own, wouldn't be very convenient to use as a primary key for the order. Since an order can have various items, and, as a result, the order number may repeat, I'll add a primary key - \"row.\""
   ]
  },
  {
   "cell_type": "markdown",
   "metadata": {
    "cell_id": "6b865f3a9a8748288c78dc45041c163d",
    "deepnote_app_coordinates": {
     "h": 5,
     "w": 12,
     "x": 0,
     "y": 0
    },
    "deepnote_cell_type": "text-cell-h3",
    "formattedRanges": []
   },
   "source": [
    "### Customers and their addresses"
   ]
  },
  {
   "cell_type": "markdown",
   "metadata": {
    "cell_id": "6bb6c1c08fdd4894979f9d7a331069ee",
    "deepnote_app_coordinates": {
     "h": 2,
     "w": 8,
     "x": 0,
     "y": 0
    },
    "deepnote_cell_type": "text-cell-p",
    "formattedRanges": [],
    "is_collapsed": false
   },
   "source": [
    "Similarly, I've designed a table with information about customers and addresses, linked to the main table via an ID. The table looks like this:(QuickDBD was used to create the schema)"
   ]
  },
  {
   "cell_type": "markdown",
   "metadata": {
    "cell_id": "6dec6a3922b64e7fb2524da9eb55331c",
    "deepnote_app_coordinates": {
     "h": 5,
     "w": 12,
     "x": 0,
     "y": 0
    },
    "deepnote_cell_type": "image",
    "deepnote_img_src": "Снимок экрана 2023-11-12 в 14.24.34.png"
   },
   "source": [
    "<img src=\"images/schema1.png\" width=\"\" align=\"center\" />\n"
   ]
  },
  {
   "cell_type": "code",
   "execution_count": 3,
   "metadata": {
    "cell_id": "eb1ef2dec4cb4624887ffcd3a955ff3f",
    "deepnote_app_coordinates": {
     "h": 5,
     "w": 12,
     "x": 0,
     "y": 0
    },
    "deepnote_cell_type": "sql",
    "deepnote_sql_source": "CREATE DATABASE saturday;",
    "deepnote_to_be_reexecuted": false,
    "deepnote_variable_name": "df_1",
    "execution_millis": 207,
    "execution_start": 1704645339024,
    "source_hash": null,
    "sql_integration_id": "deepnote-dataframe-sql"
   },
   "outputs": [],
   "source": [
    "import snowflake.connector\n",
    "from config import USER, PASSWORD, ACCOUNT\n",
    "\n",
    "ctx = snowflake.connector.connect(\n",
    "    user=USER,\n",
    "    password=PASSWORD,\n",
    "    account=ACCOUNT\n",
    ")\n",
    "\n",
    "cs = ctx.cursor()\n"
   ]
  },
  {
   "cell_type": "code",
   "execution_count": 34,
   "metadata": {
    "cell_id": "eb1ef2dec4cb4624887ffcd3a955ff3f",
    "deepnote_app_coordinates": {
     "h": 5,
     "w": 12,
     "x": 0,
     "y": 0
    },
    "deepnote_cell_type": "sql",
    "deepnote_sql_source": "CREATE DATABASE saturday;",
    "deepnote_to_be_reexecuted": false,
    "deepnote_variable_name": "df_1",
    "execution_millis": 207,
    "execution_start": 1704645339024,
    "source_hash": null,
    "sql_integration_id": "deepnote-dataframe-sql"
   },
   "outputs": [
    {
     "name": "stdout",
     "output_type": "stream",
     "text": [
      "DATABASE 'saturday' created successfully.\n"
     ]
    }
   ],
   "source": [
    "cs.execute(\"\"\"\n",
    "CREATE DATABASE saturday\n",
    "\"\"\")\n",
    "\n",
    "print(\"DATABASE 'saturday' created successfully.\")\n"
   ]
  },
  {
   "cell_type": "code",
   "execution_count": 35,
   "metadata": {
    "cell_id": "7737b09e3bf241039fe038e9330c10af",
    "deepnote_app_coordinates": {
     "h": 5,
     "w": 12,
     "x": 0,
     "y": 0
    },
    "deepnote_cell_type": "sql",
    "deepnote_sql_source": "CREATE SCHEMA saturday.restaurant;",
    "deepnote_to_be_reexecuted": true,
    "deepnote_variable_name": "df_2",
    "execution_millis": 1426,
    "execution_start": 1700311523544,
    "source_hash": null,
    "sql_integration_id": "deepnote-dataframe-sql"
   },
   "outputs": [
    {
     "name": "stdout",
     "output_type": "stream",
     "text": [
      "SCHEMA 'restaurant' created successfully.\n"
     ]
    }
   ],
   "source": [
    "cs.execute(\"\"\"\n",
    "CREATE SCHEMA saturday.restaurant\n",
    "\"\"\")\n",
    "\n",
    "print(\"SCHEMA 'restaurant' created successfully.\")"
   ]
  },
  {
   "cell_type": "code",
   "execution_count": 37,
   "metadata": {
    "cell_id": "0ed6bcf51f1f40fe801385137743d4ad",
    "deepnote_app_coordinates": {
     "h": 5,
     "w": 12,
     "x": 0,
     "y": 0
    },
    "deepnote_cell_type": "sql",
    "deepnote_sql_source": "CREATE TABLE saturday.restaurant.customer (\n    cust_id INT PRIMARY KEY,\n    first_name VARCHAR(50) NOT NULL,\n    second_name VARCHAR(50) NOT NULL\n);",
    "deepnote_to_be_reexecuted": true,
    "deepnote_variable_name": "df_3",
    "execution_millis": 1230,
    "execution_start": 1700311524939,
    "source_hash": null,
    "sql_integration_id": "6e95f1a7-e29e-4e07-8a7d-667b5be88fcc"
   },
   "outputs": [
    {
     "name": "stdout",
     "output_type": "stream",
     "text": [
      "TABLE 'customer' created successfully.\n",
      "TABLE 'orders' created successfully.\n",
      "TABLE 'address' created successfully.\n"
     ]
    }
   ],
   "source": [
    "# Create the 'customer' table\n",
    "cs.execute(\"\"\"\n",
    "CREATE TABLE saturday.restaurant.customer (\n",
    "    cust_id INT PRIMARY KEY,\n",
    "    first_name VARCHAR(50) NOT NULL,\n",
    "    second_name VARCHAR(50) NOT NULL\n",
    ");\n",
    "\"\"\")\n",
    "print(\"TABLE 'customer' created successfully.\")\n",
    "\n",
    "# Create the 'orders' table\n",
    "cs.execute(\"\"\"\n",
    "CREATE TABLE saturday.restaurant.orders (\n",
    "    row_id INT PRIMARY KEY,\n",
    "    order_id VARCHAR(50) NOT NULL,\n",
    "    quantity INT NOT NULL,\n",
    "    created_at DATETIME NOT NULL,\n",
    "    item_id INT NOT NULL,\n",
    "    cust_id INT NOT NULL,\n",
    "    delivery BOOLEAN NOT NULL,\n",
    "    addy_id INT NOT NULL\n",
    ");\n",
    "\"\"\")\n",
    "print(\"TABLE 'orders' created successfully.\")\n",
    "\n",
    "# Create the 'address' table\n",
    "cs.execute(\"\"\"\n",
    "CREATE TABLE saturday.restaurant.address (\n",
    "    addy_id INT PRIMARY KEY,\n",
    "    addy1 VARCHAR(100) NOT NULL,\n",
    "    addy2 VARCHAR(100),\n",
    "    addy3 VARCHAR(100),\n",
    "    city VARCHAR(50) NOT NULL,\n",
    "    zipcode VARCHAR(50) NOT NULL\n",
    ");\n",
    "\"\"\")\n",
    "print(\"TABLE 'address' created successfully.\")\n"
   ]
  },
  {
   "cell_type": "markdown",
   "metadata": {
    "cell_id": "c2440d5fa33d49919e2f7b48c65035ad",
    "deepnote_app_coordinates": {
     "h": 5,
     "w": 12,
     "x": 0,
     "y": 0
    },
    "deepnote_cell_type": "text-cell-h3",
    "formattedRanges": []
   },
   "source": [
    "### Item Information"
   ]
  },
  {
   "cell_type": "markdown",
   "metadata": {
    "cell_id": "9aeeeab05f0e4e89954670057e1100db",
    "deepnote_app_coordinates": {
     "h": 2,
     "w": 8,
     "x": 0,
     "y": 0
    },
    "deepnote_cell_type": "text-cell-p",
    "formattedRanges": []
   },
   "source": [
    "Now, there's essential information about who and where the order is going, but no information about the item sold. This will be linked to the item_id. For optimization, I've separated information about the item and its recipe for future ease of modifications and simplified table management. The new schema looks like this:"
   ]
  },
  {
   "cell_type": "markdown",
   "metadata": {
    "cell_id": "97ff38094b8c4723b10ea018b1dae4cb",
    "deepnote_app_coordinates": {
     "h": 5,
     "w": 12,
     "x": 0,
     "y": 0
    },
    "deepnote_cell_type": "image",
    "deepnote_img_src": "image-20231112-145730.png"
   },
   "source": [
    "<img src=\"images/schema2.png\" width=\"\" align=\"center\" />\n"
   ]
  },
  {
   "cell_type": "code",
   "execution_count": 39,
   "metadata": {
    "cell_id": "cd507a05217e4515ad1c5b3f15978ade",
    "deepnote_app_coordinates": {
     "h": 5,
     "w": 12,
     "x": 0,
     "y": 0
    },
    "deepnote_cell_type": "sql",
    "deepnote_sql_source": "CREATE TABLE saturday.restaurant.item (\n    item_id INT PRIMARY KEY,\n    item_name VARCHAR(50) NOT NULL,\n    item_cat VARCHAR(50) NOT NULL,\n    item_size VARCHAR(50) NOT NULL,\n    item_price DECIMAL(10,2) NOT NULL,\n    recipe_id VARCHAR(20) NOT NULL\n);",
    "deepnote_to_be_reexecuted": true,
    "deepnote_variable_name": "df_6",
    "execution_millis": 1294,
    "execution_start": 1700311528769,
    "source_hash": null,
    "sql_integration_id": "6e95f1a7-e29e-4e07-8a7d-667b5be88fcc"
   },
   "outputs": [
    {
     "name": "stdout",
     "output_type": "stream",
     "text": [
      "TABLE 'item' created successfully.\n",
      "TABLE 'recipe' created successfully.\n"
     ]
    }
   ],
   "source": [
    "# Create the 'item' table\n",
    "cs.execute(\"\"\"\n",
    "CREATE TABLE saturday.restaurant.item (\n",
    "    item_id INT PRIMARY KEY,\n",
    "    item_name VARCHAR(50) NOT NULL,\n",
    "    item_cat VARCHAR(50) NOT NULL,\n",
    "    item_size VARCHAR(50) NOT NULL,\n",
    "    item_price DECIMAL(10,2) NOT NULL,\n",
    "    recipe_id VARCHAR(20) NOT NULL\n",
    ");\n",
    "\"\"\")\n",
    "print(\"TABLE 'item' created successfully.\")\n",
    "\n",
    "# Create the 'recipe' table\n",
    "cs.execute(\"\"\"\n",
    "CREATE TABLE saturday.restaurant.recipe (\n",
    "    row_id INT PRIMARY KEY,\n",
    "    recipe_id VARCHAR(20) NOT NULL,\n",
    "    ing_id VARCHAR(20) NOT NULL,\n",
    "    quantity INT NOT NULL\n",
    ");\n",
    "\"\"\")\n",
    "print(\"TABLE 'recipe' created successfully.\")\n"
   ]
  },
  {
   "cell_type": "markdown",
   "metadata": {
    "cell_id": "8547d6364b344f878df17e810e5100b0",
    "deepnote_app_coordinates": {
     "h": 5,
     "w": 12,
     "x": 0,
     "y": 0
    },
    "deepnote_cell_type": "text-cell-h3",
    "formattedRanges": []
   },
   "source": [
    "### Stock keeping"
   ]
  },
  {
   "cell_type": "markdown",
   "metadata": {
    "cell_id": "7796a71197814f1eba3127fe1859eb24",
    "deepnote_app_coordinates": {
     "h": 2,
     "w": 8,
     "x": 0,
     "y": 0
    },
    "deepnote_cell_type": "text-cell-p",
    "formattedRanges": []
   },
   "source": [
    "Now we have information about the components of each product, but we still lack sufficient data to calculate the cost of each item based on ingredient prices. Additionally, we are unable to track the remaining stock on hand. To address this, we need to create two tables: \"inventory\" and \"ingredient.\" The current schema looks like this:"
   ]
  },
  {
   "cell_type": "markdown",
   "metadata": {
    "cell_id": "c05ef72d16b846018ce2ac1a2344f328",
    "deepnote_app_coordinates": {
     "h": 5,
     "w": 12,
     "x": 0,
     "y": 0
    },
    "deepnote_cell_type": "image",
    "deepnote_img_src": "image-20231113-160606.png"
   },
   "source": [
    "<img src=\"images/schema3.png\" width=\"\" align=\"center\" />"
   ]
  },
  {
   "cell_type": "code",
   "execution_count": 51,
   "metadata": {
    "cell_id": "e5e1ae0bf97d44289b9022f35e27d89e",
    "deepnote_app_coordinates": {
     "h": 5,
     "w": 12,
     "x": 0,
     "y": 0
    },
    "deepnote_cell_type": "sql",
    "deepnote_sql_source": "CREATE TABLE saturday.restaurant.ingridient (\n    ing_id VARCHAR(20) PRIMARY KEY,\n    ing_name VARCHAR(50) NOT NULL,\n    ing_weight INT NOT NULL,\n    ing_meas VARCHAR(20) NOT NULL,\n    ing_price DECIMAL(10,2) NOT NULL\n);",
    "deepnote_to_be_reexecuted": true,
    "deepnote_variable_name": "df_8",
    "execution_millis": 1272,
    "execution_start": 1700311531287,
    "source_hash": null,
    "sql_integration_id": "6e95f1a7-e29e-4e07-8a7d-667b5be88fcc"
   },
   "outputs": [
    {
     "name": "stdout",
     "output_type": "stream",
     "text": [
      "TABLE 'ingredient' created successfully.\n",
      "TABLE 'inventory' created successfully.\n"
     ]
    }
   ],
   "source": [
    "# Create the 'ingridient' table\n",
    "cs.execute(\"\"\"\n",
    "CREATE TABLE saturday.restaurant.ingredient (\n",
    "    ing_id VARCHAR(20) PRIMARY KEY,\n",
    "    ing_name VARCHAR(50) NOT NULL,\n",
    "    ing_weight INT NOT NULL,\n",
    "    ing_meas VARCHAR(20) NOT NULL,\n",
    "    ing_price DECIMAL(10,2) NOT NULL\n",
    ");\n",
    "\"\"\")\n",
    "print(\"TABLE 'ingredient' created successfully.\")\n",
    "\n",
    "# Create the 'inventory' table\n",
    "cs.execute(\"\"\"\n",
    "CREATE TABLE saturday.restaurant.inventory (\n",
    "    row_id INT PRIMARY KEY,\n",
    "    ing_id VARCHAR(20) NOT NULL,\n",
    "    quantity INT NOT NULL\n",
    ");\n",
    "\"\"\")\n",
    "print(\"TABLE 'inventory' created successfully.\")\n"
   ]
  },
  {
   "cell_type": "markdown",
   "metadata": {
    "cell_id": "f8f073a282384dd482d0440f3beac763",
    "deepnote_app_coordinates": {
     "h": 5,
     "w": 12,
     "x": 0,
     "y": 0
    },
    "deepnote_cell_type": "text-cell-h3",
    "formattedRanges": []
   },
   "source": [
    "### Salary"
   ]
  },
  {
   "cell_type": "markdown",
   "metadata": {
    "cell_id": "dce9dee63ff041b8a00ac5f93c2caaf6",
    "deepnote_app_coordinates": {
     "h": 2,
     "w": 8,
     "x": 0,
     "y": 0
    },
    "deepnote_cell_type": "text-cell-p",
    "formattedRanges": []
   },
   "source": [
    "Now that we have information about all the production components and ingredients for each item, the missing piece for calculating their true cost is labor. To address this, we will create tables for scheduling, employees, and information about their shifts."
   ]
  },
  {
   "cell_type": "markdown",
   "metadata": {
    "cell_id": "935447d5b9e54acc8ba33a68a7804343",
    "deepnote_app_coordinates": {
     "h": 5,
     "w": 12,
     "x": 0,
     "y": 0
    },
    "deepnote_cell_type": "image",
    "deepnote_img_src": "image-20231113-160852.png"
   },
   "source": [
    "<img src=\"images/schema4.png\" width=\"\" align=\"center\" />\n"
   ]
  },
  {
   "cell_type": "code",
   "execution_count": 41,
   "metadata": {
    "cell_id": "00cc5e9bb0474b7d8a56080a4f9450ae",
    "deepnote_app_coordinates": {
     "h": 5,
     "w": 12,
     "x": 0,
     "y": 0
    },
    "deepnote_cell_type": "sql",
    "deepnote_sql_source": "CREATE TABLE saturday.restaurant.schedule (\n    row_id INT PRIMARY KEY,\n    sch_id VARCHAR(20) NOT NULL,\n    date DATETIME NOT NULL,\n    shift_id VARCHAR(20) NOT NULL,\n    staff_id VARCHAR(20) NOT NULL\n);",
    "deepnote_to_be_reexecuted": true,
    "deepnote_variable_name": "df_10",
    "execution_millis": 1331,
    "execution_start": 1700311533857,
    "source_hash": null,
    "sql_integration_id": "6e95f1a7-e29e-4e07-8a7d-667b5be88fcc"
   },
   "outputs": [
    {
     "name": "stdout",
     "output_type": "stream",
     "text": [
      "TABLE 'schedule' created successfully.\n",
      "TABLE 'staff' created successfully.\n",
      "TABLE 'shift' created successfully.\n"
     ]
    }
   ],
   "source": [
    "# Create the 'schedule' table\n",
    "cs.execute(\"\"\"\n",
    "CREATE TABLE saturday.restaurant.schedule (\n",
    "    row_id INT PRIMARY KEY,\n",
    "    sch_id VARCHAR(20) NOT NULL,\n",
    "    date DATETIME NOT NULL,\n",
    "    shift_id VARCHAR(20) NOT NULL,\n",
    "    staff_id VARCHAR(20) NOT NULL\n",
    ");\n",
    "\"\"\")\n",
    "print(\"TABLE 'schedule' created successfully.\")\n",
    "\n",
    "# Create the 'staff' table\n",
    "cs.execute(\"\"\"\n",
    "CREATE TABLE saturday.restaurant.staff (\n",
    "    staff_id VARCHAR(20) PRIMARY KEY,\n",
    "    first_name VARCHAR(50) NOT NULL,\n",
    "    last_name VARCHAR(50) NOT NULL,\n",
    "    position VARCHAR(20) NOT NULL,\n",
    "    hourly_rate DECIMAL(5,2) NOT NULL\n",
    ");\n",
    "\"\"\")\n",
    "print(\"TABLE 'staff' created successfully.\")\n",
    "\n",
    "# Create the 'shift' table\n",
    "cs.execute(\"\"\"\n",
    "CREATE TABLE saturday.restaurant.shift (\n",
    "    shift_id VARCHAR(20) PRIMARY KEY,\n",
    "    day_of_week VARCHAR(10) NOT NULL,\n",
    "    start_time TIME NOT NULL,\n",
    "    end_time TIME NOT NULL\n",
    ");\n",
    "\"\"\")\n",
    "print(\"TABLE 'shift' created successfully.\")\n"
   ]
  },
  {
   "cell_type": "markdown",
   "metadata": {
    "cell_id": "6b77c9f591c4412abbda0cf2713fa54e",
    "deepnote_app_coordinates": {
     "h": 5,
     "w": 12,
     "x": 0,
     "y": 0
    },
    "deepnote_cell_type": "text-cell-h2",
    "formattedRanges": []
   },
   "source": [
    "## Step 2: Creating Queries for Dashboards"
   ]
  },
  {
   "cell_type": "markdown",
   "metadata": {
    "cell_id": "742d151906604fb2b518304694cf7f89",
    "deepnote_app_coordinates": {
     "h": 2,
     "w": 8,
     "x": 0,
     "y": 0
    },
    "deepnote_cell_type": "text-cell-p",
    "formattedRanges": []
   },
   "source": [
    "To create dashboards, we need to first process the data into a convenient format. For this, we will write several custom queries that correspond to the data we want to eventually see on the dashboard, specifically - information about orders and inventory."
   ]
  },
  {
   "cell_type": "markdown",
   "metadata": {
    "cell_id": "3d5b85f4ca8445e0928ade340c9898dc",
    "deepnote_app_coordinates": {
     "h": 5,
     "w": 12,
     "x": 0,
     "y": 0
    },
    "deepnote_cell_type": "text-cell-h3",
    "formattedRanges": []
   },
   "source": [
    "### Orders"
   ]
  },
  {
   "cell_type": "markdown",
   "metadata": {
    "cell_id": "71b3b05c704e4cbbbb34cf5912c3b6ae",
    "deepnote_app_coordinates": {
     "h": 5,
     "w": 12,
     "x": 0,
     "y": 0
    },
    "deepnote_cell_type": "text-cell-p",
    "formattedRanges": []
   },
   "source": [
    "Beginning with the information about orders, we will consolidate the data into a single query for the dashboard. The query is as follows:"
   ]
  },
  {
   "cell_type": "code",
   "execution_count": 45,
   "metadata": {
    "allow_embed": false,
    "cell_id": "f500863caece41ec87c30bd04848c2f4",
    "deepnote_app_coordinates": {
     "h": 5,
     "w": 12,
     "x": 0,
     "y": 0
    },
    "deepnote_cell_type": "sql",
    "deepnote_sql_source": "SELECT\n\to.order_id,\n\ti.item_price,\n\to.quantity,\n\ti.item_cat,\n\ti.item_name,\n\to.created_at,\n\ta.delivery_address1,\n\ta.delivery_address2,\n\ta.delivery_city,\n\ta.delivery_zipcode,\n\to.delivery \nFROM\n\torders o\n\tLEFT JOIN item i ON o.item_id = i.item_id\n\tLEFT JOIN address a ON o.add_id = a.add_id",
    "deepnote_to_be_reexecuted": true,
    "deepnote_variable_name": "df_13",
    "source_hash": null,
    "sql_integration_id": "deepnote-dataframe-sql"
   },
   "outputs": [
    {
     "name": "stdout",
     "output_type": "stream",
     "text": [
      "SECURE VIEW 'orders_view' created successfully.\n"
     ]
    }
   ],
   "source": [
    "cs.execute(\"\"\"\n",
    "CREATE SECURE VIEW orders_view AS\n",
    "SELECT\n",
    "    o.order_id,\n",
    "    i.item_price,\n",
    "    o.quantity,\n",
    "    i.item_cat,\n",
    "    i.item_name,\n",
    "    o.created_at,\n",
    "    a.addy1,\n",
    "    a.addy2,\n",
    "    a.city,\n",
    "    a.zipcode,\n",
    "    o.delivery \n",
    "FROM\n",
    "    orders o\n",
    "    LEFT JOIN item i ON o.item_id = i.item_id\n",
    "    LEFT JOIN address a ON o.addy_id = a.addy_id;\n",
    "  \n",
    "\"\"\")\n",
    "print(\"SECURE VIEW 'orders_view' created successfully.\")\n"
   ]
  },
  {
   "cell_type": "markdown",
   "metadata": {
    "cell_id": "9187cff7158c44f68853df2470380710",
    "deepnote_app_coordinates": {
     "h": 120,
     "w": 12,
     "x": 0,
     "y": 0
    },
    "deepnote_cell_type": "text-cell-h3",
    "formattedRanges": []
   },
   "source": [
    "### Inventory"
   ]
  },
  {
   "cell_type": "markdown",
   "metadata": {
    "cell_id": "a7ae7aac68e149569a0ce1fb4c1ee31b",
    "deepnote_app_coordinates": {
     "h": 120,
     "w": 12,
     "x": 0,
     "y": 0
    },
    "deepnote_cell_type": "text-cell-p",
    "formattedRanges": []
   },
   "source": [
    "This part is more complex than the orders section. We need to figure out how much stock we're using and which items need to be ordered again. We also plan to work out the cost of making each pizza from the ingredient costs, to help keep track of pricing and profits."
   ]
  },
  {
   "cell_type": "markdown",
   "metadata": {
    "cell_id": "c938600d121e4630b1fa062eb986a7e5",
    "deepnote_app_coordinates": {
     "h": 120,
     "w": 12,
     "x": 0,
     "y": 0
    },
    "deepnote_cell_type": "text-cell-p",
    "formattedRanges": []
   },
   "source": [
    "\n",
    "For the dashboard, we'll gather the following data related to inventory management:"
   ]
  },
  {
   "cell_type": "markdown",
   "metadata": {
    "cell_id": "02e68680ad9f42b3aa7721ea3b19ac86",
    "deepnote_app_coordinates": {
     "h": 2,
     "w": 8,
     "x": 0,
     "y": 0
    },
    "deepnote_cell_type": "text-cell-bullet",
    "formattedRanges": []
   },
   "source": [
    "- Aggregate Quantity of Each Ingredient"
   ]
  },
  {
   "cell_type": "markdown",
   "metadata": {
    "cell_id": "de2b6cc552a545ddbf7613c6ba282e6f",
    "deepnote_app_coordinates": {
     "h": 2,
     "w": 8,
     "x": 0,
     "y": 0
    },
    "deepnote_cell_type": "text-cell-bullet",
    "formattedRanges": []
   },
   "source": [
    "- Overall Cost of All Ingredients"
   ]
  },
  {
   "cell_type": "markdown",
   "metadata": {
    "cell_id": "f2a475b8e3d74abdaea5e1f5a5535ed8",
    "deepnote_app_coordinates": {
     "h": 2,
     "w": 8,
     "x": 0,
     "y": 0
    },
    "deepnote_cell_type": "text-cell-bullet",
    "formattedRanges": []
   },
   "source": [
    "- Computed Cost for Each Item"
   ]
  },
  {
   "cell_type": "markdown",
   "metadata": {
    "cell_id": "a913c36006184eab8014165f9f2b8674",
    "deepnote_app_coordinates": {
     "h": 2,
     "w": 8,
     "x": 0,
     "y": 0
    },
    "deepnote_cell_type": "text-cell-bullet",
    "formattedRanges": []
   },
   "source": [
    "- Remaining Stock as a Percentage for Each Ingredient"
   ]
  },
  {
   "cell_type": "markdown",
   "metadata": {
    "cell_id": "230519aeea104799a39331e98a67fef4",
    "deepnote_app_coordinates": {
     "h": 2,
     "w": 8,
     "x": 0,
     "y": 0
    },
    "deepnote_cell_type": "text-cell-bullet",
    "formattedRanges": []
   },
   "source": [
    "- Compilation of Ingredients to Reorder, Determined by Remaining Inventory"
   ]
  },
  {
   "cell_type": "markdown",
   "metadata": {
    "cell_id": "7c379e84b5fb410ebfa58ea19291da13",
    "deepnote_app_coordinates": {
     "h": 2,
     "w": 8,
     "x": 0,
     "y": 0
    },
    "deepnote_cell_type": "text-cell-p",
    "formattedRanges": []
   },
   "source": [
    "For this stage, I will divide it into two queries. In the first part, we will calculate the usage of our resources, and in the second part, we will focus on the remaining stock."
   ]
  },
  {
   "cell_type": "code",
   "execution_count": 55,
   "metadata": {
    "cell_id": "e3f9f7e79af04e17abc9b4c0befc5ade",
    "deepnote_app_coordinates": {
     "h": 120,
     "w": 12,
     "x": 0,
     "y": 0
    },
    "deepnote_cell_type": "sql",
    "deepnote_sql_source": "SELECT \n\ts1.item_name,\n\ts1.ing_id,\n\ts1.ing_name,\n\ts1.ing_weight,\n\ts1.ing_price,\n\ts1.order_quantity,\n\ts1.recipe_quantity,\n\ts1.order_quantity * s1.recipe_quantity AS ordered_weight\n\ts1.ing_price/s1.ing_weight as unit_cost,\n\t(s1.order_quantity * s1.recipe_quantity)*(s1.ing_price/s1.ing_weight) as ingredient_cost\nFROM \n    (SELECT\n        o.item_id,\n        i.sku,\n        j.item_name,\n        r.ing_id,\n        ing.ing_name,\n        r.quantity AS recipe_quantity,\n        sum( o.quantity ) AS order_quantity,\n        ing. ing_weight,\n        ing. ing_price\n    FROM\n        orders o\n        LEFT JOIN item i ON o.item_id = i.item_id\n        LEFT JOIN recipe r ON i.sku = r.recipe_id\n        LEFT JOIN ingredient ing ON ing.ing_id = r.ing_id\n    GROUP BY\n        o.item_id,\n        i.sku,\n        j.item_name,\n        r.ing_id,\n        r.quantity,\n        ing.ing_name,\n        ing.ing_weight\n        ing.ing_price) s1",
    "deepnote_to_be_reexecuted": true,
    "deepnote_variable_name": "df_14",
    "source_hash": null,
    "sql_integration_id": "6e95f1a7-e29e-4e07-8a7d-667b5be88fcc"
   },
   "outputs": [
    {
     "name": "stdout",
     "output_type": "stream",
     "text": [
      "SECURE VIEW 'stock1' created successfully.\n"
     ]
    }
   ],
   "source": [
    "cs.execute(\"\"\"\n",
    "CREATE SECURE VIEW stock1 AS\n",
    "SELECT \n",
    "    s1.item_name,\n",
    "    s1.ing_id,\n",
    "    s1.ing_name,\n",
    "    s1.ing_weight,\n",
    "    s1.ing_price,\n",
    "    s1.order_quantity,\n",
    "    s1.recipe_quantity,\n",
    "    s1.order_quantity * s1.recipe_quantity AS ordered_weight,\n",
    "    s1.ing_price/s1.ing_weight as unit_cost,\n",
    "    (s1.order_quantity * s1.recipe_quantity)*(s1.ing_price/s1.ing_weight) as ingredient_cost\n",
    "FROM \n",
    "    (SELECT\n",
    "        o.item_id,\n",
    "        i.recipe_id,\n",
    "        i.item_name,\n",
    "        r.ing_id,\n",
    "        ing.ing_name,\n",
    "        r.quantity AS recipe_quantity,\n",
    "        SUM(o.quantity) AS order_quantity,\n",
    "        ing.ing_weight,\n",
    "        ing.ing_price\n",
    "    FROM\n",
    "        orders o\n",
    "        LEFT JOIN item i ON o.item_id = i.item_id\n",
    "        LEFT JOIN recipe r ON i.recipe_id = r.recipe_id\n",
    "        LEFT JOIN ingredient ing ON ing.ing_id = r.ing_id\n",
    "    GROUP BY\n",
    "        o.item_id,\n",
    "        i.recipe_id,\n",
    "        i.item_name,\n",
    "        r.ing_id,\n",
    "        r.quantity,\n",
    "        ing.ing_name,\n",
    "        ing.ing_weight,\n",
    "        ing.ing_price) s1;\n",
    "\"\"\")\n",
    "print(\"SECURE VIEW 'stock1' created successfully.\")"
   ]
  },
  {
   "cell_type": "code",
   "execution_count": 57,
   "metadata": {
    "cell_id": "f7b20e8965674d80a062eb8d772cacd9",
    "deepnote_app_coordinates": {
     "h": 120,
     "w": 12,
     "x": 0,
     "y": 0
    },
    "deepnote_cell_type": "sql",
    "deepnote_sql_source": "SELECT\ns2.ing_name,\ns2.ordered_weight,\ning.ing_weight,\ninv.quantity,\ning.ing_weight * inv.quantity AS total_inv_weight \nFROM\n\t( SELECT ing_id, ing_name, sum( ordered_weight ) AS ordered_weight FROM s1 GROUP BY ing_name, ing_id ) s2\n\tLEFT JOIN inventory inv ON inv.item_id = s2.ing_id\n\tLEFT JOIN ingredient ing ON ing.ing_id = s2.ing_id",
    "deepnote_to_be_reexecuted": true,
    "deepnote_variable_name": "df_15",
    "source_hash": null,
    "sql_integration_id": "6e95f1a7-e29e-4e07-8a7d-667b5be88fcc"
   },
   "outputs": [
    {
     "name": "stdout",
     "output_type": "stream",
     "text": [
      "SECURE VIEW 'stock2' created successfully.\n"
     ]
    }
   ],
   "source": [
    "cs.execute(\"\"\"\n",
    "CREATE VIEW stock2 AS\n",
    "SELECT\n",
    "    s2.ing_name,\n",
    "    s2.ordered_weight,\n",
    "    ing.ing_weight,\n",
    "    inv.quantity,\n",
    "    ing.ing_weight * inv.quantity AS total_inv_weight \n",
    "FROM\n",
    "    (SELECT ing_id, ing_name, SUM(ordered_weight) AS ordered_weight FROM stock1 GROUP BY ing_name, ing_id) s2\n",
    "    LEFT JOIN inventory inv ON inv.ing_id = s2.ing_id\n",
    "    LEFT JOIN ingredient ing ON ing.ing_id = s2.ing_id;\n",
    "\"\"\")\n",
    "print(\"SECURE VIEW 'stock2' created successfully.\")"
   ]
  },
  {
   "cell_type": "code",
   "execution_count": null,
   "metadata": {},
   "outputs": [],
   "source": []
  }
 ],
 "metadata": {
  "deepnote_app_layout": "powerful-article",
  "deepnote_execution_queue": [],
  "deepnote_notebook_id": "e87afdf7f2bd44bcbcfff4ae8bfa375b",
  "deepnote_persisted_session": {
   "createdAt": "2024-01-07T17:00:09.443Z"
  },
  "kernelspec": {
   "display_name": "Python 3 (ipykernel)",
   "language": "python",
   "name": "python3"
  },
  "language_info": {
   "codemirror_mode": {
    "name": "ipython",
    "version": 3
   },
   "file_extension": ".py",
   "mimetype": "text/x-python",
   "name": "python",
   "nbconvert_exporter": "python",
   "pygments_lexer": "ipython3",
   "version": "3.11.0"
  }
 },
 "nbformat": 4,
 "nbformat_minor": 4
}
